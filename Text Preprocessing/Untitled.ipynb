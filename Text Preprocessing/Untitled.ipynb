{
 "cells": [
  {
   "cell_type": "markdown",
   "metadata": {},
   "source": [
    "# Python Tokenization examples"
   ]
  },
  {
   "cell_type": "code",
   "execution_count": 1,
   "metadata": {},
   "outputs": [],
   "source": [
    "import nltk\n",
    "text = \"Things Work Out Best For Those Who Make The Best Of How Things Work Out.\""
   ]
  },
  {
   "cell_type": "code",
   "execution_count": 2,
   "metadata": {},
   "outputs": [
    {
     "data": {
      "text/plain": [
       "['Things',\n",
       " 'Work',\n",
       " 'Out',\n",
       " 'Best',\n",
       " 'For',\n",
       " 'Those',\n",
       " 'Who',\n",
       " 'Make',\n",
       " 'The',\n",
       " 'Best',\n",
       " 'Of',\n",
       " 'How',\n",
       " 'Things',\n",
       " 'Work',\n",
       " 'Out.']"
      ]
     },
     "execution_count": 2,
     "metadata": {},
     "output_type": "execute_result"
    }
   ],
   "source": [
    "tokenizer = nltk.tokenize.WhitespaceTokenizer()\n",
    "tokenizer.tokenize(text)"
   ]
  },
  {
   "cell_type": "code",
   "execution_count": 3,
   "metadata": {},
   "outputs": [
    {
     "data": {
      "text/plain": [
       "['Things',\n",
       " 'Work',\n",
       " 'Out',\n",
       " 'Best',\n",
       " 'For',\n",
       " 'Those',\n",
       " 'Who',\n",
       " 'Make',\n",
       " 'The',\n",
       " 'Best',\n",
       " 'Of',\n",
       " 'How',\n",
       " 'Things',\n",
       " 'Work',\n",
       " 'Out',\n",
       " '.']"
      ]
     },
     "execution_count": 3,
     "metadata": {},
     "output_type": "execute_result"
    }
   ],
   "source": [
    "tokenizer = nltk.tokenize.TreebankWordTokenizer()\n",
    "tokenizer.tokenize(text)"
   ]
  },
  {
   "cell_type": "code",
   "execution_count": 9,
   "metadata": {},
   "outputs": [],
   "source": [
    "tokenizer = nltk.tokenize.WordPunctTokenizer()\n",
    "tokens = tokenizer.tokenize(text)"
   ]
  },
  {
   "cell_type": "markdown",
   "metadata": {},
   "source": [
    "## 1. Token Normalization\n",
    "#### Sometimes we may want same token for different forms of words\n",
    "##### - wolves  ->  wolf\n",
    "##### - talking   -> talk\n",
    "\n",
    "\n"
   ]
  },
  {
   "cell_type": "markdown",
   "metadata": {},
   "source": [
    "## 1.2. Stemming \n",
    "### - A process of removing suffixes of the word to get root form of the word , which is called stem.\n",
    "### Example : Porter's stemmer \n",
    "#####                       - caresses -> caress\n",
    "#####                       - ponies -> poni\n",
    "#####                       - cats ->cat"
   ]
  },
  {
   "cell_type": "code",
   "execution_count": 10,
   "metadata": {},
   "outputs": [
    {
     "data": {
      "text/plain": [
       "'there is no royal road to anyth . one thing at a time , all thing in success . that which grow fast , wither as rapidli . that which grow slowli , endur .'"
      ]
     },
     "execution_count": 10,
     "metadata": {},
     "output_type": "execute_result"
    }
   ],
   "source": [
    "text = \"There is no royal road to anything. One thing at a time, all things in succession. That which grows fast, withers as rapidly. That which grows slowly, endures.\"\n",
    "token2 = tokenizer.tokenize(text)\n",
    "stemmer = nltk.stem.PorterStemmer()\n",
    "\" \".join(stemmer.stem(token) for token in token2)"
   ]
  },
  {
   "cell_type": "markdown",
   "metadata": {},
   "source": [
    "\n",
    "## 1.3.  Lemmatization\n",
    "#### - Its not the same as stemming but it do gives base form of the word. which can have some meaning.\n",
    "\n",
    "### Example: WordNet Lemmatizer\n",
    "#####                     - wolves -> wolf\n",
    "#####                     - feet -> foot"
   ]
  },
  {
   "cell_type": "code",
   "execution_count": 11,
   "metadata": {},
   "outputs": [
    {
     "data": {
      "text/plain": [
       "'There is no royal road to anything . One thing at a time , all thing in succession . That which grows fast , withers a rapidly . That which grows slowly , endures .'"
      ]
     },
     "execution_count": 11,
     "metadata": {},
     "output_type": "execute_result"
    }
   ],
   "source": [
    "stemmer = nltk.stem.WordNetLemmatizer()\n",
    "\" \".join(stemmer.lemmatize(token) for token in token2) "
   ]
  },
  {
   "cell_type": "code",
   "execution_count": null,
   "metadata": {},
   "outputs": [],
   "source": []
  },
  {
   "cell_type": "code",
   "execution_count": null,
   "metadata": {},
   "outputs": [],
   "source": []
  },
  {
   "cell_type": "code",
   "execution_count": null,
   "metadata": {},
   "outputs": [],
   "source": []
  },
  {
   "cell_type": "code",
   "execution_count": null,
   "metadata": {},
   "outputs": [],
   "source": []
  },
  {
   "cell_type": "code",
   "execution_count": null,
   "metadata": {},
   "outputs": [],
   "source": []
  }
 ],
 "metadata": {
  "kernelspec": {
   "display_name": "Python 3",
   "language": "python",
   "name": "python3"
  },
  "language_info": {
   "codemirror_mode": {
    "name": "ipython",
    "version": 3
   },
   "file_extension": ".py",
   "mimetype": "text/x-python",
   "name": "python",
   "nbconvert_exporter": "python",
   "pygments_lexer": "ipython3",
   "version": "3.7.6"
  }
 },
 "nbformat": 4,
 "nbformat_minor": 4
}
